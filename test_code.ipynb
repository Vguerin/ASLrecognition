{
 "cells": [
  {
   "cell_type": "code",
   "execution_count": 1,
   "metadata": {},
   "outputs": [],
   "source": [
    "import numpy as np\n",
    "import os\n",
    "from collections import defaultdict\n",
    "import cv2\n",
    "import matplotlib.pyplot as plt\n",
    "import matplotlib.image as mpimg\n",
    "from loading_img import load_images_from_folder\n",
    "from skimage.transform import resize\n",
    "from random import sample"
   ]
  },
  {
   "cell_type": "code",
   "execution_count": 19,
   "metadata": {},
   "outputs": [],
   "source": [
    "classes = []\n",
    "\n",
    "data_dir = os.path.join(os.getcwd(), 'dataset')\n",
    "image_paths = defaultdict(list)\n",
    "\n",
    "#Get every folder names corresponding to a letter\n",
    "for subdir, dirs, files in os.walk(data_dir):\n",
    "    if subdir.split('\\\\')[-1] == 'dataset':\n",
    "        continue\n",
    "    folder = subdir.split('\\\\')[-1]\n",
    "    classes.append(folder)\n",
    "    \n",
    "    #Create image path for every images of every class\n",
    "    for file in files:\n",
    "        filepath = os.path.join(subdir, file)\n",
    "        if filepath.endswith(\".jpg\"):\n",
    "            image_paths[classes[-1]].append(filepath)\n",
    "\n",
    "img_class_ids = {classe: index for index, classe in enumerate(classes)}"
   ]
  },
  {
   "cell_type": "code",
   "execution_count": 20,
   "metadata": {},
   "outputs": [
    {
     "name": "stdout",
     "output_type": "stream",
     "text": [
      "11047\n"
     ]
    }
   ],
   "source": [
    "total = 0\n",
    "for key in image_paths.keys():\n",
    "    total = total + len(image_paths[key])\n",
    "    \n",
    "print(total)"
   ]
  },
  {
   "cell_type": "code",
   "execution_count": 21,
   "metadata": {},
   "outputs": [
    {
     "name": "stdout",
     "output_type": "stream",
     "text": [
      "{'A': 0, 'B': 1, 'C': 2, 'D': 3, 'E': 4, 'F': 5, 'G': 6, 'H': 7, 'I': 8, 'J': 9, 'K': 10, 'L': 11, 'M': 12, 'N': 13, 'O': 14, 'P': 15, 'Q': 16, 'R': 17, 'S': 18, 'space': 19, 'T': 20, 'U': 21, 'V': 22, 'W': 23, 'X': 24, 'Y': 25, 'Z': 26}\n"
     ]
    }
   ],
   "source": [
    "img_class_ids = {classe: index for index, classe in enumerate(classes)}\n",
    "print(img_class_ids)"
   ]
  },
  {
   "cell_type": "code",
   "execution_count": 22,
   "metadata": {},
   "outputs": [],
   "source": [
    "img_paths_and_classes = []\n",
    "for classe, paths in image_paths.items():\n",
    "    for path in paths:\n",
    "        img_paths_and_classes.append((path, img_class_ids[classe]))"
   ]
  },
  {
   "cell_type": "code",
   "execution_count": 23,
   "metadata": {},
   "outputs": [],
   "source": [
    "test_ratio = 0.2\n",
    "train_size = int(len(img_paths_and_classes) * (1 - test_ratio))\n",
    "\n",
    "np.random.shuffle(img_paths_and_classes)\n",
    "\n",
    "img_paths_and_classes_train = img_paths_and_classes[:train_size]\n",
    "img_paths_and_classes_test = img_paths_and_classes[train_size:]\n",
    "\n",
    "validation_ratio = 0.3\n",
    "train_size = int(len(img_paths_and_classes_train) * (1 - validation_ratio))\n",
    "\n",
    "np.random.shuffle(img_paths_and_classes_train)\n",
    "\n",
    "img_paths_and_classes_training = img_paths_and_classes[:train_size]\n",
    "img_paths_and_classes_validation = img_paths_and_classes[train_size:]"
   ]
  },
  {
   "cell_type": "code",
   "execution_count": 24,
   "metadata": {},
   "outputs": [],
   "source": [
    "def prepare_image(image, target_width = 224, target_height = 224):\n",
    "    \n",
    "    image_resized_grey = cv2.resize(image,(target_width,target_height))\n",
    "    image_resized = cv2.cvtColor(image_resized_grey,cv2.COLOR_BGR2RGB)\n",
    "    \n",
    "    # Let's also flip the image horizontally with 50% probability:\n",
    "    if np.random.rand() < 0.5:\n",
    "        image_resized = np.fliplr(image_resized)\n",
    "\n",
    "    return image_resized.astype(np.float32)"
   ]
  },
  {
   "cell_type": "code",
   "execution_count": 25,
   "metadata": {},
   "outputs": [],
   "source": [
    "def prepare_batch(img_paths_and_classes, batch_size):\n",
    "    batch_paths_and_classes = sample(img_paths_and_classes, batch_size)\n",
    "    images = [mpimg.imread(path)[:, :, :] for path, labels in batch_paths_and_classes]\n",
    "    prepared_images = [prepare_image(image) for image in images]\n",
    "    prepared_images = norm_between_a_b(prepared_images,0,1)\n",
    "    X_batch = np.stack(prepared_images)\n",
    "    y_batch = np.array([labels for path, labels in batch_paths_and_classes], dtype=np.int32)\n",
    "    return X_batch, y_batch"
   ]
  },
  {
   "cell_type": "code",
   "execution_count": 26,
   "metadata": {},
   "outputs": [],
   "source": [
    "def prepare_all_images(img_paths_and_classes):\n",
    "    images = [mpimg.imread(path)[:, :, :] for path, labels in img_paths_and_classes]\n",
    "    prepared_images = [prepare_image(image) for image in images]\n",
    "    prepared_images = norm_between_a_b(prepared_images,0,1)\n",
    "    X_all = np.stack(prepared_images)\n",
    "    Y_all = np.array([labels for path, labels in img_paths_and_classes], dtype=np.int32)\n",
    "    return X_all, Y_all"
   ]
  },
  {
   "cell_type": "code",
   "execution_count": 27,
   "metadata": {},
   "outputs": [],
   "source": [
    "def norm_between_a_b(array_img,a,b):\n",
    "    img_norm = []\n",
    "    for array in array_img:\n",
    "        min_array = array.min()\n",
    "        max_array = array.max()\n",
    "        array_norm = a-(array-min_array)*(a-b)/(max_array-min_array)\n",
    "        img_norm.append(array_norm)\n",
    "    return img_norm"
   ]
  },
  {
   "cell_type": "code",
   "execution_count": 28,
   "metadata": {},
   "outputs": [],
   "source": [
    "#X_batch, y_batch = prepare_batch(img_paths_and_classes_train,50)"
   ]
  },
  {
   "cell_type": "code",
   "execution_count": 14,
   "metadata": {},
   "outputs": [],
   "source": [
    "import tensorflow as tf\n",
    "from tensorflow import keras\n",
    "from tensorflow.keras import layers\n",
    "from tensorflow.keras.applications.resnet_v2 import ResNet50V2"
   ]
  },
  {
   "cell_type": "code",
   "execution_count": null,
   "metadata": {},
   "outputs": [],
   "source": []
  },
  {
   "cell_type": "code",
   "execution_count": 31,
   "metadata": {},
   "outputs": [
    {
     "name": "stdout",
     "output_type": "stream",
     "text": [
      "Tensor(\"input_1:0\", shape=(None, 224, 224, 3), dtype=float32)\n"
     ]
    }
   ],
   "source": [
    "inputs = keras.Input(shape=X_train.shape[1:])\n",
    "print(inputs)"
   ]
  },
  {
   "cell_type": "code",
   "execution_count": 30,
   "metadata": {},
   "outputs": [
    {
     "ename": "NameError",
     "evalue": "name 'X_train_all' is not defined",
     "output_type": "error",
     "traceback": [
      "\u001b[1;31m---------------------------------------------------------------------------\u001b[0m",
      "\u001b[1;31mNameError\u001b[0m                                 Traceback (most recent call last)",
      "\u001b[1;32m<ipython-input-30-0cb52dbd5357>\u001b[0m in \u001b[0;36m<module>\u001b[1;34m\u001b[0m\n\u001b[0;32m      2\u001b[0m \u001b[0mX_val\u001b[0m\u001b[1;33m,\u001b[0m \u001b[0my_val\u001b[0m \u001b[1;33m=\u001b[0m \u001b[0mprepare_all_images\u001b[0m\u001b[1;33m(\u001b[0m\u001b[0mimg_paths_and_classes_validation\u001b[0m\u001b[1;33m)\u001b[0m\u001b[1;33m\u001b[0m\u001b[1;33m\u001b[0m\u001b[0m\n\u001b[0;32m      3\u001b[0m \u001b[0mX_test\u001b[0m\u001b[1;33m,\u001b[0m \u001b[0my_test\u001b[0m \u001b[1;33m=\u001b[0m \u001b[0mprepare_all_images\u001b[0m\u001b[1;33m(\u001b[0m\u001b[0mimg_paths_and_classes_test\u001b[0m\u001b[1;33m)\u001b[0m\u001b[1;33m\u001b[0m\u001b[1;33m\u001b[0m\u001b[0m\n\u001b[1;32m----> 4\u001b[1;33m \u001b[0minputs\u001b[0m \u001b[1;33m=\u001b[0m \u001b[0mkeras\u001b[0m\u001b[1;33m.\u001b[0m\u001b[0mInput\u001b[0m\u001b[1;33m(\u001b[0m\u001b[0mshape\u001b[0m\u001b[1;33m=\u001b[0m\u001b[0mX_train_all\u001b[0m\u001b[1;33m.\u001b[0m\u001b[0mshape\u001b[0m\u001b[1;33m[\u001b[0m\u001b[1;36m1\u001b[0m\u001b[1;33m:\u001b[0m\u001b[1;33m]\u001b[0m\u001b[1;33m)\u001b[0m\u001b[1;33m\u001b[0m\u001b[1;33m\u001b[0m\u001b[0m\n\u001b[0m",
      "\u001b[1;31mNameError\u001b[0m: name 'X_train_all' is not defined"
     ]
    }
   ],
   "source": [
    "X_train, y_train = prepare_all_images(img_paths_and_classes_training)\n",
    "X_val, y_val = prepare_all_images(img_paths_and_classes_validation)\n",
    "X_test, y_test = prepare_all_images(img_paths_and_classes_test)\n",
    "inputs = keras.Input(shape=X_train.shape[1:])"
   ]
  },
  {
   "cell_type": "code",
   "execution_count": 53,
   "metadata": {},
   "outputs": [],
   "source": [
    "model = ResNet50V2(\n",
    "    include_top=True, weights=None, input_tensor=inputs,\n",
    "    pooling=True, classes=len(img_class_ids), classifier_activation='softmax')"
   ]
  },
  {
   "cell_type": "code",
   "execution_count": null,
   "metadata": {},
   "outputs": [],
   "source": []
  },
  {
   "cell_type": "code",
   "execution_count": 40,
   "metadata": {},
   "outputs": [],
   "source": [
    "# image_size = (224, 224)\n",
    "# batch_size = 50\n",
    "# len(img_class_ids)"
   ]
  },
  {
   "cell_type": "code",
   "execution_count": 41,
   "metadata": {},
   "outputs": [
    {
     "data": {
      "text/plain": [
       "array([ 0,  1,  2,  3,  4,  5,  6,  7,  8,  9, 10, 11, 12, 13, 14, 15, 16,\n",
       "       17, 18, 19, 20, 21, 22, 23, 24, 25, 26])"
      ]
     },
     "execution_count": 41,
     "metadata": {},
     "output_type": "execute_result"
    },
    {
     "data": {
      "image/png": "[encoded data removed]",
      "text/plain": [
       "<Figure size 432x288 with 1 Axes>"
      ]
     },
     "metadata": {
      "needs_background": "light"
     },
     "output_type": "display_data"
    }
   ],
   "source": [
    "plt.imshow(X_train_all[3])\n",
    "np.unique(y_train_all)"
   ]
  },
  {
   "cell_type": "code",
   "execution_count": null,
   "metadata": {},
   "outputs": [],
   "source": []
  },
  {
   "cell_type": "code",
   "execution_count": 42,
   "metadata": {},
   "outputs": [],
   "source": [
    "# train_ds = train_ds.prefetch(buffer_size=50)\n",
    "# val_ds = val_ds.prefetch(buffer_size=50)"
   ]
  },
  {
   "cell_type": "code",
   "execution_count": 54,
   "metadata": {},
   "outputs": [
    {
     "name": "stdout",
     "output_type": "stream",
     "text": [
      "Epoch 1/30\n",
      "124/124 [==============================] - ETA: 0s - loss: 2.0323 - accuracy: 0.4666\n",
      "Epoch 00001: saving model to training\\test_1.ckpt\n",
      "124/124 [==============================] - 44s 357ms/step - loss: 2.0323 - accuracy: 0.4666 - val_loss: 9.1837 - val_accuracy: 0.2682\n",
      "Epoch 2/30\n",
      "124/124 [==============================] - ETA: 0s - loss: 1.5589 - accuracy: 0.5727\n",
      "Epoch 00002: saving model to training\\test_1.ckpt\n",
      "124/124 [==============================] - 43s 344ms/step - loss: 1.5589 - accuracy: 0.5727 - val_loss: 2.9391 - val_accuracy: 0.2921\n",
      "Epoch 3/30\n",
      "124/124 [==============================] - ETA: 0s - loss: 1.1572 - accuracy: 0.6564\n",
      "Epoch 00003: saving model to training\\test_1.ckpt\n",
      "124/124 [==============================] - 43s 345ms/step - loss: 1.1572 - accuracy: 0.6564 - val_loss: 43.3134 - val_accuracy: 0.0278\n",
      "Epoch 4/30\n",
      "124/124 [==============================] - ETA: 0s - loss: 0.8737 - accuracy: 0.7335\n",
      "Epoch 00004: saving model to training\\test_1.ckpt\n",
      "124/124 [==============================] - 46s 369ms/step - loss: 0.8737 - accuracy: 0.7335 - val_loss: 2.3904 - val_accuracy: 0.4782\n",
      "Epoch 5/30\n",
      "124/124 [==============================] - ETA: 0s - loss: 0.6765 - accuracy: 0.7832\n",
      "Epoch 00005: saving model to training\\test_1.ckpt\n",
      "124/124 [==============================] - 43s 343ms/step - loss: 0.6765 - accuracy: 0.7832 - val_loss: 2.2563 - val_accuracy: 0.4696\n",
      "Epoch 6/30\n",
      "124/124 [==============================] - ETA: 0s - loss: 0.5200 - accuracy: 0.8299\n",
      "Epoch 00006: saving model to training\\test_1.ckpt\n",
      "124/124 [==============================] - 42s 340ms/step - loss: 0.5200 - accuracy: 0.8299 - val_loss: 2.7801 - val_accuracy: 0.4048\n",
      "Epoch 7/30\n",
      "124/124 [==============================] - ETA: 0s - loss: 0.3847 - accuracy: 0.8742\n",
      "Epoch 00007: saving model to training\\test_1.ckpt\n",
      "124/124 [==============================] - 43s 345ms/step - loss: 0.3847 - accuracy: 0.8742 - val_loss: 5.4544 - val_accuracy: 0.2108\n",
      "Epoch 8/30\n",
      "124/124 [==============================] - ETA: 0s - loss: 0.3055 - accuracy: 0.8980\n",
      "Epoch 00008: saving model to training\\test_1.ckpt\n",
      "124/124 [==============================] - 43s 346ms/step - loss: 0.3055 - accuracy: 0.8980 - val_loss: 1.1449 - val_accuracy: 0.7057\n",
      "Epoch 9/30\n",
      "124/124 [==============================] - ETA: 0s - loss: 0.2520 - accuracy: 0.9172\n",
      "Epoch 00009: saving model to training\\test_1.ckpt\n",
      "124/124 [==============================] - 43s 347ms/step - loss: 0.2520 - accuracy: 0.9172 - val_loss: 1.8773 - val_accuracy: 0.5422\n",
      "Epoch 10/30\n",
      "124/124 [==============================] - ETA: 0s - loss: 0.2090 - accuracy: 0.9308\n",
      "Epoch 00010: saving model to training\\test_1.ckpt\n",
      "124/124 [==============================] - 43s 346ms/step - loss: 0.2090 - accuracy: 0.9308 - val_loss: 5.7933 - val_accuracy: 0.2731\n",
      "Epoch 11/30\n",
      "124/124 [==============================] - ETA: 0s - loss: 0.1633 - accuracy: 0.9463\n",
      "Epoch 00011: saving model to training\\test_1.ckpt\n",
      "124/124 [==============================] - 44s 353ms/step - loss: 0.1633 - accuracy: 0.9463 - val_loss: 0.5925 - val_accuracy: 0.8060\n",
      "Epoch 12/30\n",
      "124/124 [==============================] - ETA: 0s - loss: 0.1672 - accuracy: 0.9454\n",
      "Epoch 00012: saving model to training\\test_1.ckpt\n",
      "124/124 [==============================] - 45s 360ms/step - loss: 0.1672 - accuracy: 0.9454 - val_loss: 2.1033 - val_accuracy: 0.5636\n",
      "Epoch 13/30\n",
      "124/124 [==============================] - ETA: 0s - loss: 0.1380 - accuracy: 0.9559\n",
      "Epoch 00013: saving model to training\\test_1.ckpt\n",
      "124/124 [==============================] - 45s 362ms/step - loss: 0.1380 - accuracy: 0.9559 - val_loss: 0.6784 - val_accuracy: 0.7964\n",
      "Epoch 14/30\n",
      "124/124 [==============================] - ETA: 0s - loss: 0.0649 - accuracy: 0.9811\n",
      "Epoch 00014: saving model to training\\test_1.ckpt\n",
      "124/124 [==============================] - 43s 350ms/step - loss: 0.0649 - accuracy: 0.9811 - val_loss: 0.4339 - val_accuracy: 0.8733\n",
      "Epoch 15/30\n",
      "124/124 [==============================] - ETA: 0s - loss: 0.1138 - accuracy: 0.9614\n",
      "Epoch 00015: saving model to training\\test_1.ckpt\n",
      "124/124 [==============================] - 43s 347ms/step - loss: 0.1138 - accuracy: 0.9614 - val_loss: 8.0475 - val_accuracy: 0.1563\n",
      "Epoch 16/30\n",
      "124/124 [==============================] - ETA: 0s - loss: 0.1072 - accuracy: 0.9664\n",
      "Epoch 00016: saving model to training\\test_1.ckpt\n",
      "124/124 [==============================] - 44s 355ms/step - loss: 0.1072 - accuracy: 0.9664 - val_loss: 6.6173 - val_accuracy: 0.1067\n",
      "Epoch 17/30\n",
      "124/124 [==============================] - ETA: 0s - loss: 0.1124 - accuracy: 0.9620\n",
      "Epoch 00017: saving model to training\\test_1.ckpt\n",
      "124/124 [==============================] - 43s 349ms/step - loss: 0.1124 - accuracy: 0.9620 - val_loss: 1.7845 - val_accuracy: 0.5919\n",
      "Epoch 18/30\n",
      "124/124 [==============================] - ETA: 0s - loss: 0.0621 - accuracy: 0.9798\n",
      "Epoch 00018: saving model to training\\test_1.ckpt\n",
      "124/124 [==============================] - 44s 353ms/step - loss: 0.0621 - accuracy: 0.9798 - val_loss: 1.0657 - val_accuracy: 0.7034\n",
      "Epoch 19/30\n",
      "124/124 [==============================] - ETA: 0s - loss: 0.0555 - accuracy: 0.9827\n",
      "Epoch 00019: saving model to training\\test_1.ckpt\n",
      "124/124 [==============================] - 44s 353ms/step - loss: 0.0555 - accuracy: 0.9827 - val_loss: 0.4670 - val_accuracy: 0.8739\n",
      "Epoch 20/30\n",
      "124/124 [==============================] - ETA: 0s - loss: 0.0386 - accuracy: 0.9890\n",
      "Epoch 00020: saving model to training\\test_1.ckpt\n",
      "124/124 [==============================] - 44s 354ms/step - loss: 0.0386 - accuracy: 0.9890 - val_loss: 7.5243 - val_accuracy: 0.1833\n",
      "Epoch 21/30\n",
      "124/124 [==============================] - ETA: 0s - loss: 0.0563 - accuracy: 0.9803\n",
      "Epoch 00021: saving model to training\\test_1.ckpt\n",
      "124/124 [==============================] - 44s 356ms/step - loss: 0.0563 - accuracy: 0.9803 - val_loss: 0.7693 - val_accuracy: 0.8237\n",
      "Epoch 22/30\n",
      "124/124 [==============================] - ETA: 0s - loss: 0.0643 - accuracy: 0.9796\n",
      "Epoch 00022: saving model to training\\test_1.ckpt\n",
      "124/124 [==============================] - 43s 345ms/step - loss: 0.0643 - accuracy: 0.9796 - val_loss: 1.1943 - val_accuracy: 0.6736\n",
      "Epoch 23/30\n",
      "124/124 [==============================] - ETA: 0s - loss: 0.0220 - accuracy: 0.9937\n",
      "Epoch 00023: saving model to training\\test_1.ckpt\n",
      "124/124 [==============================] - 42s 343ms/step - loss: 0.0220 - accuracy: 0.9937 - val_loss: 0.4239 - val_accuracy: 0.8916\n",
      "Epoch 24/30\n",
      "124/124 [==============================] - ETA: 0s - loss: 0.0648 - accuracy: 0.9796\n",
      "Epoch 00024: saving model to training\\test_1.ckpt\n",
      "124/124 [==============================] - 42s 343ms/step - loss: 0.0648 - accuracy: 0.9796 - val_loss: 5.0532 - val_accuracy: 0.3439\n",
      "Epoch 25/30\n",
      "124/124 [==============================] - ETA: 0s - loss: 0.0576 - accuracy: 0.9814\n",
      "Epoch 00025: saving model to training\\test_1.ckpt\n",
      "124/124 [==============================] - 42s 342ms/step - loss: 0.0576 - accuracy: 0.9814 - val_loss: 0.3839 - val_accuracy: 0.9025\n",
      "Epoch 26/30\n",
      "124/124 [==============================] - ETA: 0s - loss: 0.0393 - accuracy: 0.9887\n",
      "Epoch 00026: saving model to training\\test_1.ckpt\n",
      "124/124 [==============================] - 43s 344ms/step - loss: 0.0393 - accuracy: 0.9887 - val_loss: 0.7041 - val_accuracy: 0.8108\n",
      "Epoch 27/30\n",
      "124/124 [==============================] - ETA: 0s - loss: 0.0358 - accuracy: 0.9901\n",
      "Epoch 00027: saving model to training\\test_1.ckpt\n",
      "124/124 [==============================] - 43s 346ms/step - loss: 0.0358 - accuracy: 0.9901 - val_loss: 2.4756 - val_accuracy: 0.4947\n",
      "Epoch 28/30\n",
      "124/124 [==============================] - ETA: 0s - loss: 0.0395 - accuracy: 0.9869\n",
      "Epoch 00028: saving model to training\\test_1.ckpt\n",
      "124/124 [==============================] - 43s 346ms/step - loss: 0.0395 - accuracy: 0.9869 - val_loss: 0.3058 - val_accuracy: 0.9107\n",
      "Epoch 29/30\n",
      "124/124 [==============================] - ETA: 0s - loss: 0.0333 - accuracy: 0.9901\n",
      "Epoch 00029: saving model to training\\test_1.ckpt\n",
      "124/124 [==============================] - 43s 349ms/step - loss: 0.0333 - accuracy: 0.9901 - val_loss: 0.6744 - val_accuracy: 0.8348\n",
      "Epoch 30/30\n",
      "124/124 [==============================] - ETA: 0s - loss: 0.0245 - accuracy: 0.9939\n",
      "Epoch 00030: saving model to training\\test_1.ckpt\n",
      "124/124 [==============================] - 43s 346ms/step - loss: 0.0245 - accuracy: 0.9939 - val_loss: 0.2888 - val_accuracy: 0.9338\n"
     ]
    },
    {
     "data": {
      "text/plain": [
       "<tensorflow.python.keras.callbacks.History at 0x25424f84bb0>"
      ]
     },
     "execution_count": 54,
     "metadata": {},
     "output_type": "execute_result"
    }
   ],
   "source": [
    "epochs = 30\n",
    "\n",
    "# callbacks = [\n",
    "#     keras.callbacks.ModelCheckpoint(\"save_at_{epoch}.h5\"),\n",
    "# ]\n",
    "model.compile(\n",
    "    optimizer=keras.optimizers.Adam(1e-3),\n",
    "    loss=\"sparse_categorical_crossentropy\",\n",
    "    metrics=[\"accuracy\"],\n",
    ")\n",
    "\n",
    "checkpoint_path = \"training/test_1.ckpt\"\n",
    "checkpoint_dir = os.path.dirname(checkpoint_path)\n",
    "\n",
    "# Create a callback that saves the model's weights\n",
    "cp_callback = tf.keras.callbacks.ModelCheckpoint(filepath=checkpoint_path,\n",
    "                                                 save_weights_only=True,\n",
    "                                                 verbose=1)\n",
    "\n",
    "model.fit(\n",
    "    x=X_train,y=y_train, batch_size=50, epochs=epochs, callbacks=cp_callback, validation_data=(X_val,y_val),\n",
    ")"
   ]
  },
  {
   "cell_type": "code",
   "execution_count": 55,
   "metadata": {},
   "outputs": [
    {
     "name": "stdout",
     "output_type": "stream",
     "text": [
      "70/70 - 4s - loss: 0.2736 - accuracy: 0.9362\n",
      "Model, accuracy: 93.62%\n",
      "(2210, 27)\n"
     ]
    }
   ],
   "source": [
    "loss, acc = model.evaluate(X_test, y_test, verbose=2)\n",
    "print('Model, accuracy: {:5.2f}%'.format(100 * acc))\n",
    "\n",
    "print(model.predict(X_test).shape)"
   ]
  },
  {
   "cell_type": "code",
   "execution_count": 11,
   "metadata": {},
   "outputs": [],
   "source": [
    "import cv2"
   ]
  },
  {
   "cell_type": "code",
   "execution_count": 12,
   "metadata": {},
   "outputs": [],
   "source": [
    "from generate_dataset import get_dataset"
   ]
  },
  {
   "cell_type": "code",
   "execution_count": 15,
   "metadata": {},
   "outputs": [
    {
     "ename": "NameError",
     "evalue": "name 'plt' is not defined",
     "output_type": "error",
     "traceback": [
      "\u001b[1;31m---------------------------------------------------------------------------\u001b[0m",
      "\u001b[1;31mNameError\u001b[0m                                 Traceback (most recent call last)",
      "\u001b[1;32m<ipython-input-15-13028e6226c0>\u001b[0m in \u001b[0;36m<module>\u001b[1;34m\u001b[0m\n\u001b[0;32m     16\u001b[0m \u001b[0mX_test\u001b[0m \u001b[1;33m=\u001b[0m \u001b[0mTest\u001b[0m\u001b[1;33m[\u001b[0m\u001b[1;36m0\u001b[0m\u001b[1;33m]\u001b[0m\u001b[1;33m\u001b[0m\u001b[1;33m\u001b[0m\u001b[0m\n\u001b[0;32m     17\u001b[0m \u001b[1;33m\u001b[0m\u001b[0m\n\u001b[1;32m---> 18\u001b[1;33m \u001b[0mplt\u001b[0m\u001b[1;33m.\u001b[0m\u001b[0mimshow\u001b[0m\u001b[1;33m(\u001b[0m\u001b[0mX_test\u001b[0m\u001b[1;33m[\u001b[0m\u001b[1;36m4\u001b[0m\u001b[1;33m]\u001b[0m\u001b[1;33m)\u001b[0m\u001b[1;33m\u001b[0m\u001b[1;33m\u001b[0m\u001b[0m\n\u001b[0m\u001b[0;32m     19\u001b[0m \u001b[1;31m#cap = cv2.VideoCapture(0)\u001b[0m\u001b[1;33m\u001b[0m\u001b[1;33m\u001b[0m\u001b[1;33m\u001b[0m\u001b[0m\n\u001b[0;32m     20\u001b[0m \u001b[1;33m\u001b[0m\u001b[0m\n",
      "\u001b[1;31mNameError\u001b[0m: name 'plt' is not defined"
     ]
    }
   ],
   "source": [
    "Train,Test,Val,class_id = get_dataset('dataset')\n",
    "inputs = keras.Input(Train[0].shape[1:])\n",
    "#Create Model\n",
    "model = ResNet50V2(\n",
    "    include_top=True, weights=None, input_tensor=inputs,\n",
    "    pooling=True, classes=len(class_id), classifier_activation='softmax')\n",
    "\n",
    "model.compile(\n",
    "    optimizer=keras.optimizers.Adam(1e-3),\n",
    "    loss=\"sparse_categorical_crossentropy\",\n",
    "    metrics=[\"accuracy\"],\n",
    ")\n",
    "\n",
    "model.load_weights(r'training/test_1.ckpt')\n",
    "\n",
    "X_test = Test[0]\n",
    "\n",
    "plt.imshow(X_test[4])\n",
    "#cap = cv2.VideoCapture(0)\n",
    "\n",
    "# while(True):\n",
    "#     # Capture frame-by-frame\n",
    "#     ret, frame = cap.read()\n",
    "\n",
    "#     # Our operations on the frame come here\n",
    "#     color_img = cv2.cvtColor(frame, cv2.COLOR_BGR2RGB)\n",
    "\n",
    "#     # Display the resulting frame\n",
    "#     cv2.imshow('frame',color_img)\n",
    "#     if cv2.waitKey(1) & 0xFF == ord('q'):\n",
    "#         break\n",
    "\n",
    "# # When everything done, release the capture\n",
    "# cap.release()\n",
    "# cv2.destroyAllWindows()"
   ]
  },
  {
   "cell_type": "code",
   "execution_count": 1,
   "metadata": {},
   "outputs": [],
   "source": [
    "import cv2\n",
    "import tensorflow as tf\n",
    "from generate_dataset import get_dataset"
   ]
  },
  {
   "cell_type": "code",
   "execution_count": 2,
   "metadata": {},
   "outputs": [],
   "source": [
    "x_train,y_train,x_test,y_test,x_val,y_val,class_id = get_dataset('dataset')"
   ]
  },
  {
   "cell_type": "code",
   "execution_count": 7,
   "metadata": {},
   "outputs": [],
   "source": [
    "class myCallback(tf.keras.callbacks.Callback):\n",
    "  def on_epoch_end(self, epoch, logs={}):\n",
    "    if(logs.get('accuracy')>0.99):\n",
    "      print(\"\\nReached 99% accuracy so cancelling training!\")\n",
    "      self.model.stop_training = True\n",
    "        \n",
    "callback = myCallback()"
   ]
  },
  {
   "cell_type": "code",
   "execution_count": 8,
   "metadata": {},
   "outputs": [],
   "source": [
    "model = tf.keras.models.Sequential([\n",
    "    tf.keras.layers.Conv2D(64, (3, 3), activation='relu', input_shape=(224, 224, 3)),\n",
    "    tf.keras.layers.MaxPooling2D(2, 2),\n",
    "    tf.keras.layers.Conv2D(64, (3, 3), activation='relu'),\n",
    "    tf.keras.layers.MaxPooling2D(2, 2),\n",
    "    tf.keras.layers.Flatten(),\n",
    "    tf.keras.layers.Dense(128, activation=tf.nn.relu),\n",
    "    tf.keras.layers.Dense(28, activation=tf.nn.softmax)])\n",
    "\n",
    "model.compile(optimizer = tf.optimizers.Adam(),\n",
    "              loss = 'sparse_categorical_crossentropy',\n",
    "              metrics=['accuracy'])\n"
   ]
  },
  {
   "cell_type": "code",
   "execution_count": 9,
   "metadata": {},
   "outputs": [
    {
     "name": "stdout",
     "output_type": "stream",
     "text": [
      "Epoch 1/10\n",
      "  1/194 [..............................] - ETA: 0s - loss: 3.3819 - accuracy: 0.0000e+00WARNING:tensorflow:Callbacks method `on_train_batch_end` is slow compared to the batch time (batch time: 0.0170s vs `on_train_batch_end` time: 0.0300s). Check your callbacks.\n",
      "194/194 [==============================] - 10s 54ms/step - loss: 2.4671 - accuracy: 0.3500 - val_loss: 2.1643 - val_accuracy: 0.4044\n",
      "Epoch 2/10\n",
      "194/194 [==============================] - 10s 53ms/step - loss: 1.8239 - accuracy: 0.5019 - val_loss: 1.6615 - val_accuracy: 0.5601\n",
      "Epoch 3/10\n",
      "194/194 [==============================] - 10s 53ms/step - loss: 1.2746 - accuracy: 0.6521 - val_loss: 1.4422 - val_accuracy: 0.6049\n",
      "Epoch 4/10\n",
      "194/194 [==============================] - 10s 53ms/step - loss: 0.8405 - accuracy: 0.7662 - val_loss: 1.1976 - val_accuracy: 0.6940\n",
      "Epoch 5/10\n",
      "194/194 [==============================] - 10s 53ms/step - loss: 0.5247 - accuracy: 0.8571 - val_loss: 1.1677 - val_accuracy: 0.7236\n",
      "Epoch 6/10\n",
      "194/194 [==============================] - 10s 53ms/step - loss: 0.3179 - accuracy: 0.9067 - val_loss: 1.3658 - val_accuracy: 0.7236\n",
      "Epoch 7/10\n",
      "194/194 [==============================] - 10s 53ms/step - loss: 0.2172 - accuracy: 0.9368 - val_loss: 1.3044 - val_accuracy: 0.7437\n",
      "Epoch 8/10\n",
      "194/194 [==============================] - 10s 53ms/step - loss: 0.1228 - accuracy: 0.9659 - val_loss: 1.4596 - val_accuracy: 0.7429\n",
      "Epoch 9/10\n",
      "194/194 [==============================] - 10s 53ms/step - loss: 0.1004 - accuracy: 0.9724 - val_loss: 1.5280 - val_accuracy: 0.7483\n",
      "Epoch 10/10\n",
      "194/194 [==============================] - 10s 53ms/step - loss: 0.0937 - accuracy: 0.9748 - val_loss: 1.6132 - val_accuracy: 0.7522\n",
      "70/70 [==============================] - 1s 15ms/step - loss: 1.7498 - accuracy: 0.7317\n"
     ]
    },
    {
     "data": {
      "text/plain": [
       "[1.7498290538787842, 0.7316741943359375]"
      ]
     },
     "execution_count": 9,
     "metadata": {},
     "output_type": "execute_result"
    }
   ],
   "source": [
    "history = model.fit(x_train, y_train, validation_data=(x_val,y_val), epochs=10, callbacks=[callback])\n",
    "\n",
    "model.evaluate(x_test, y_test)"
   ]
  },
  {
   "cell_type": "code",
   "execution_count": 10,
   "metadata": {},
   "outputs": [
    {
     "data": {
      "image/png": "[encoded data removed]",
      "text/plain": [
       "<Figure size 432x288 with 1 Axes>"
      ]
     },
     "metadata": {
      "needs_background": "light"
     },
     "output_type": "display_data"
    },
    {
     "data": {
      "image/png": "[encoded data removed]",
      "text/plain": [
       "<Figure size 432x288 with 1 Axes>"
      ]
     },
     "metadata": {
      "needs_background": "light"
     },
     "output_type": "display_data"
    }
   ],
   "source": [
    "import matplotlib.pyplot as plt\n",
    "acc = history.history['accuracy']\n",
    "val_acc = history.history['val_accuracy']\n",
    "loss = history.history['loss']\n",
    "val_loss = history.history['val_loss']\n",
    "\n",
    "epochs = range(len(acc))\n",
    "\n",
    "plt.plot(epochs, acc, 'r', label='Training accuracy')\n",
    "plt.plot(epochs, val_acc, 'b', label='Validation accuracy')\n",
    "plt.title('Training and validation accuracy')\n",
    "plt.legend()\n",
    "plt.figure()\n",
    "\n",
    "plt.plot(epochs, loss, 'r', label='Training Loss')\n",
    "plt.plot(epochs, val_loss, 'b', label='Validation Loss')\n",
    "plt.title('Training and validation loss')\n",
    "plt.legend()\n",
    "\n",
    "plt.show()"
   ]
  },
  {
   "cell_type": "code",
   "execution_count": 2,
   "metadata": {},
   "outputs": [],
   "source": []
  },
  {
   "cell_type": "code",
   "execution_count": 4,
   "metadata": {},
   "outputs": [],
   "source": []
  },
  {
   "cell_type": "code",
   "execution_count": 10,
   "metadata": {},
   "outputs": [],
   "source": []
  },
  {
   "cell_type": "code",
   "execution_count": null,
   "metadata": {},
   "outputs": [],
   "source": []
  },
  {
   "cell_type": "code",
   "execution_count": 12,
   "metadata": {},
   "outputs": [],
   "source": []
  },
  {
   "cell_type": "code",
   "execution_count": null,
   "metadata": {},
   "outputs": [],
   "source": []
  },
  {
   "cell_type": "code",
   "execution_count": null,
   "metadata": {},
   "outputs": [],
   "source": []
  }
 ],
 "metadata": {
  "kernelspec": {
   "display_name": "Python 3",
   "language": "python",
   "name": "python3"
  },
  "language_info": {
   "codemirror_mode": {
    "name": "ipython",
    "version": 3
   },
   "file_extension": ".py",
   "mimetype": "text/x-python",
   "name": "python",
   "nbconvert_exporter": "python",
   "pygments_lexer": "ipython3",
   "version": "3.8.5"
  }
 },
 "nbformat": 4,
 "nbformat_minor": 4
}
