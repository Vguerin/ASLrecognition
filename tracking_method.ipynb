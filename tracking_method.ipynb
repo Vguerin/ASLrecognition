{
 "cells": [
  {
   "cell_type": "code",
   "execution_count": 1,
   "metadata": {},
   "outputs": [],
   "source": [
    "import numpy as np\n",
    "import cv2"
   ]
  },
  {
   "cell_type": "code",
   "execution_count": 6,
   "metadata": {},
   "outputs": [],
   "source": [
    "cap = cv2.VideoCapture(0)\n",
    "\n",
    "ret,frame = cap.read()\n",
    "upperbody_cascade = cv2.CascadeClassifier('haarcascade_upperbody.xml')\n",
    "body_rect = upperbody_cascade.detectMultiScale(frame)\n",
    "if len(body_rect) == 0:\n",
    "    print(\"Nothing\")\n",
    "else:\n",
    "    (body_x,body_y,w,h) = tuple(body_rect[0])\n",
    "\n",
    "    track_window = (body_x,body_y,w,h)\n",
    "\n",
    "    roi = frame[body_y:body_y+h,body_x:body_x+w]\n",
    "\n",
    "    hsv_roi = cv2.cvtColor(roi,cv2.COLOR_BGR2HSV)\n",
    "    roi_hist = cv2.calcHist([hsv_roi],[0],None,[180],[0,180])\n",
    "\n",
    "    cv2.normalize(roi_hist,roi_hist,0,255,cv2.NORM_MINMAX)\n",
    "\n",
    "    term_crit = (cv2.TERM_CRITERIA_EPS | cv2.TERM_CRITERIA_COUNT,10,1)\n",
    "\n",
    "    while True:\n",
    "\n",
    "        ret,frame = cap.read()\n",
    "\n",
    "        if ret == True:\n",
    "\n",
    "            hsv = cv2.cvtColor(frame,cv2.COLOR_BGR2HSV)\n",
    "\n",
    "            dst = cv2.calcBackProject([hsv],[0],roi_hist,[0,180],1)\n",
    "\n",
    "            ret, track_window = cv2.CamShift(dst,track_window,term_crit)\n",
    "\n",
    "            pts = cv2.boxPoints(ret)\n",
    "            pts = np.int0(pts)\n",
    "            img2 = cv2.polylines(frame,[pts],True,(0,0,255),5)\n",
    "\n",
    "            cv2.imshow('img',frame)\n",
    "\n",
    "            k = cv2.waitKey(1) & 0xFF\n",
    "\n",
    "            if k == 27:\n",
    "                break\n",
    "        else:\n",
    "            break\n",
    "\n",
    "    cv2.destroyAllWindows()"
   ]
  },
  {
   "cell_type": "code",
   "execution_count": 3,
   "metadata": {},
   "outputs": [],
   "source": []
  },
  {
   "cell_type": "code",
   "execution_count": null,
   "metadata": {},
   "outputs": [],
   "source": []
  },
  {
   "cell_type": "code",
   "execution_count": null,
   "metadata": {},
   "outputs": [],
   "source": []
  }
 ],
 "metadata": {
  "kernelspec": {
   "display_name": "Python 3",
   "language": "python",
   "name": "python3"
  },
  "language_info": {
   "codemirror_mode": {
    "name": "ipython",
    "version": 3
   },
   "file_extension": ".py",
   "mimetype": "text/x-python",
   "name": "python",
   "nbconvert_exporter": "python",
   "pygments_lexer": "ipython3",
   "version": "3.8.5"
  }
 },
 "nbformat": 4,
 "nbformat_minor": 4
}
