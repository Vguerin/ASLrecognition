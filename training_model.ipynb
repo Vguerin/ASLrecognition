{
 "cells": [
  {
   "cell_type": "code",
   "execution_count": 1,
   "id": "powered-australian",
   "metadata": {},
   "outputs": [],
   "source": [
    "import tensorflow as tf\n",
    "import tensorflow_cloud as tfc\n",
    "import numpy as np\n",
    "import matplotlib.pyplot as plt\n",
    "import os\n",
    "import datetime\n",
    "from shutil import copyfile"
   ]
  },
  {
   "cell_type": "code",
   "execution_count": 2,
   "id": "crucial-comparison",
   "metadata": {},
   "outputs": [
    {
     "name": "stdout",
     "output_type": "stream",
     "text": [
      "Found 72828 images belonging to 24 classes.\n",
      "Found 10905 images belonging to 24 classes.\n",
      "Found 10933 images belonging to 24 classes.\n"
     ]
    }
   ],
   "source": [
    "BATCH_SIZE=24\n",
    "\n",
    "TRAINING_DIR = \"dataset_mixed/training\"\n",
    "train_datagen = tf.keras.preprocessing.image.ImageDataGenerator(rescale=1.0/255.0,\n",
    "      featurewise_std_normalization=True,\n",
    "      featurewise_center=True,\n",
    "      rotation_range=20,\n",
    "      width_shift_range=0.2,\n",
    "      height_shift_range=0.2,\n",
    "      zoom_range=0.2,\n",
    "      shear_range=0.2,\n",
    "      brightness_range=[0.4,1.5],\n",
    "      horizontal_flip=True,\n",
    "      fill_mode='nearest')\n",
    "train_generator = train_datagen.flow_from_directory(TRAINING_DIR,\n",
    "                                                    color_mode='rgb',\n",
    "                                                    batch_size=BATCH_SIZE,\n",
    "                                                    class_mode='sparse',\n",
    "                                                    target_size=(120, 120))\n",
    "\n",
    "TESTING_DIR = \"dataset_mixed/testing\"\n",
    "testing_datagen = tf.keras.preprocessing.image.ImageDataGenerator(rescale=1.0/255.0,featurewise_std_normalization=True,\n",
    "      featurewise_center=True)\n",
    "testing_generator = testing_datagen.flow_from_directory(TESTING_DIR,\n",
    "                                                              color_mode='rgb',\n",
    "                                                              batch_size=BATCH_SIZE,\n",
    "                                                              class_mode='sparse',\n",
    "                                                              target_size=(120, 120))\n",
    "\n",
    "VALIDATION_DIR = \"dataset_mixed/validation\"\n",
    "validation_datagen = tf.keras.preprocessing.image.ImageDataGenerator(rescale=1.0/255.0,featurewise_std_normalization=True,\n",
    "      featurewise_center=True)\n",
    "validation_generator = validation_datagen.flow_from_directory(VALIDATION_DIR,\n",
    "                                                              color_mode='rgb',\n",
    "                                                              batch_size=BATCH_SIZE,\n",
    "                                                              class_mode='sparse',\n",
    "                                                              target_size=(120, 120))"
   ]
  },
  {
   "cell_type": "code",
   "execution_count": 209,
   "id": "natural-crest",
   "metadata": {},
   "outputs": [],
   "source": [
    "base_model = tf.keras.applications.DenseNet201(weights=\"imagenet\",input_shape=(120,120,3),include_top = False)"
   ]
  },
  {
   "cell_type": "code",
   "execution_count": 210,
   "id": "psychological-terror",
   "metadata": {},
   "outputs": [],
   "source": [
    "# Most of base model will be frozen.\n",
    "for layer in base_model.layers[:-10]:\n",
    "    layer.trainable = False\n",
    "    \n",
    "last_output = base_model.layers[-1].output"
   ]
  },
  {
   "cell_type": "code",
   "execution_count": 211,
   "id": "magnetic-programmer",
   "metadata": {},
   "outputs": [],
   "source": [
    "# Last ouput is flattened to get 1D Array for dense network\n",
    "# Some layers are added to suit more to our problem\n",
    "\n",
    "core_model = tf.keras.layers.Flatten()(last_output)\n",
    "core_model = tf.keras.layers.BatchNormalization()(core_model) #To reduce vanishing/exploding gradients problems\n",
    "\n",
    "core_model = tf.keras.layers.Dense(128,kernel_initializer=\"he_normal\")(core_model)\n",
    "core_model = tf.keras.layers.BatchNormalization()(core_model) \n",
    "core_model = tf.keras.layers.Activation('relu')(core_model)\n",
    "core_model = tf.keras.layers.Dropout(0.4)(core_model) # To avoid overfitting \n",
    "\n",
    "core_model = tf.keras.layers.Dense(64,kernel_initializer=\"he_normal\")(core_model)\n",
    "core_model = tf.keras.layers.BatchNormalization()(core_model) \n",
    "core_model = tf.keras.layers.Activation('relu')(core_model)\n",
    "core_model = tf.keras.layers.Dropout(0.4)(core_model)\n",
    "\n",
    "# Final layer is applying softmax function to get multiclass output\n",
    "output = tf.keras.layers.Dense(24, activation=tf.nn.softmax)(core_model)\n",
    "\n",
    "my_model = tf.keras.Model(inputs=base_model.input, outputs=output)"
   ]
  },
  {
   "cell_type": "code",
   "execution_count": 212,
   "id": "everyday-modem",
   "metadata": {},
   "outputs": [],
   "source": [
    "optimizer = tf.keras.optimizers.Adam()\n",
    "\n",
    "my_model.compile(loss='sparse_categorical_crossentropy', optimizer=optimizer, metrics=['accuracy'])"
   ]
  },
  {
   "cell_type": "code",
   "execution_count": 213,
   "id": "fantastic-approval",
   "metadata": {},
   "outputs": [],
   "source": [
    "early_stopping = tf.keras.callbacks.EarlyStopping(patience=3, mode='min', restore_best_weights=True, monitor='val_loss')"
   ]
  },
  {
   "cell_type": "code",
   "execution_count": 215,
   "id": "signal-tractor",
   "metadata": {},
   "outputs": [
    {
     "name": "stdout",
     "output_type": "stream",
     "text": [
      "Epoch 1/50\n",
      "3035/3035 [==============================] - 346s 111ms/step - loss: 1.9767 - accuracy: 0.3805 - val_loss: 1.0094 - val_accuracy: 0.6652\n",
      "Epoch 2/50\n",
      "3035/3035 [==============================] - 325s 107ms/step - loss: 1.4383 - accuracy: 0.5365 - val_loss: 0.8406 - val_accuracy: 0.7210\n",
      "Epoch 3/50\n",
      "3035/3035 [==============================] - 290s 96ms/step - loss: 1.2578 - accuracy: 0.5981 - val_loss: 0.7121 - val_accuracy: 0.7686\n",
      "Epoch 4/50\n",
      "3035/3035 [==============================] - 291s 96ms/step - loss: 1.1274 - accuracy: 0.6435 - val_loss: 0.5874 - val_accuracy: 0.8061\n",
      "Epoch 5/50\n",
      "3035/3035 [==============================] - 292s 96ms/step - loss: 1.0451 - accuracy: 0.6719 - val_loss: 0.5061 - val_accuracy: 0.8341\n",
      "Epoch 6/50\n",
      "3035/3035 [==============================] - 294s 97ms/step - loss: 0.9754 - accuracy: 0.6965 - val_loss: 0.5242 - val_accuracy: 0.8313\n",
      "Epoch 7/50\n",
      "3035/3035 [==============================] - 302s 100ms/step - loss: 0.9175 - accuracy: 0.7156 - val_loss: 0.4606 - val_accuracy: 0.8512\n",
      "Epoch 8/50\n",
      "3035/3035 [==============================] - 293s 96ms/step - loss: 0.8841 - accuracy: 0.7275 - val_loss: 0.4180 - val_accuracy: 0.8606\n",
      "Epoch 9/50\n",
      "3035/3035 [==============================] - 293s 96ms/step - loss: 0.8414 - accuracy: 0.7417 - val_loss: 0.4507 - val_accuracy: 0.8556\n",
      "Epoch 10/50\n",
      "3035/3035 [==============================] - 291s 96ms/step - loss: 0.8073 - accuracy: 0.7520 - val_loss: 0.3619 - val_accuracy: 0.8818\n",
      "Epoch 11/50\n",
      "3035/3035 [==============================] - 292s 96ms/step - loss: 0.7855 - accuracy: 0.7600 - val_loss: 0.3806 - val_accuracy: 0.8709\n",
      "Epoch 12/50\n",
      "3035/3035 [==============================] - 290s 96ms/step - loss: 0.7485 - accuracy: 0.7720 - val_loss: 0.3710 - val_accuracy: 0.8819\n",
      "Epoch 13/50\n",
      "3035/3035 [==============================] - 290s 96ms/step - loss: 0.7341 - accuracy: 0.7771 - val_loss: 0.3561 - val_accuracy: 0.8873\n",
      "Epoch 14/50\n",
      "3035/3035 [==============================] - 290s 95ms/step - loss: 0.7040 - accuracy: 0.7868 - val_loss: 0.3630 - val_accuracy: 0.8860\n",
      "Epoch 15/50\n",
      "3035/3035 [==============================] - 289s 95ms/step - loss: 0.6930 - accuracy: 0.7907 - val_loss: 0.3062 - val_accuracy: 0.9028\n",
      "Epoch 16/50\n",
      "3035/3035 [==============================] - 290s 96ms/step - loss: 0.6693 - accuracy: 0.7968 - val_loss: 0.3097 - val_accuracy: 0.8948\n",
      "Epoch 17/50\n",
      "3035/3035 [==============================] - 290s 95ms/step - loss: 0.6591 - accuracy: 0.8009 - val_loss: 0.2760 - val_accuracy: 0.9100\n",
      "Epoch 18/50\n",
      "3035/3035 [==============================] - 290s 95ms/step - loss: 0.6409 - accuracy: 0.8060 - val_loss: 0.3025 - val_accuracy: 0.9006\n",
      "Epoch 19/50\n",
      "3035/3035 [==============================] - 291s 96ms/step - loss: 0.6278 - accuracy: 0.8099 - val_loss: 0.2784 - val_accuracy: 0.9077\n",
      "Epoch 20/50\n",
      "3035/3035 [==============================] - 291s 96ms/step - loss: 0.6201 - accuracy: 0.8119 - val_loss: 0.2910 - val_accuracy: 0.9084\n"
     ]
    }
   ],
   "source": [
    "history = my_model.fit(train_generator,\n",
    "                              epochs=50,\n",
    "                              verbose=1,\n",
    "                              validation_data=testing_generator,\n",
    "                              callbacks=[early_stopping])"
   ]
  },
  {
   "cell_type": "code",
   "execution_count": 175,
   "id": "pressed-baseline",
   "metadata": {},
   "outputs": [
    {
     "name": "stdout",
     "output_type": "stream",
     "text": [
      "456/456 [==============================] - 24s 52ms/step - loss: 0.1022 - accuracy: 0.9659\n"
     ]
    },
    {
     "data": {
      "text/plain": [
       "[0.10221806913614273, 0.9658831357955933]"
      ]
     },
     "execution_count": 175,
     "metadata": {},
     "output_type": "execute_result"
    }
   ],
   "source": [
    "my_model.evaluate(validation_generator)"
   ]
  },
  {
   "cell_type": "code",
   "execution_count": null,
   "id": "spatial-booth",
   "metadata": {},
   "outputs": [],
   "source": []
  },
  {
   "cell_type": "code",
   "execution_count": 188,
   "id": "silver-parish",
   "metadata": {},
   "outputs": [
    {
     "name": "stdout",
     "output_type": "stream",
     "text": [
      "Found 24 images belonging to 24 classes.\n",
      "Found 24 images belonging to 24 classes.\n",
      "Found 10933 images belonging to 24 classes.\n",
      "Found 306 images belonging to 24 classes.\n"
     ]
    }
   ],
   "source": [
    "ALL = \"photo_test\"\n",
    "ONLY_HAND = \"photo_test-only_hand\"\n",
    "OLD_DATASET = \"dataset_mixed/validation\"\n",
    "FROM_VIDEO = \"photo_from_video/validation\"\n",
    "\n",
    "validation_datagen = tf.keras.preprocessing.image.ImageDataGenerator(rescale=1.0/255.0)\n",
    "\n",
    "all_photo_gen = validation_datagen.flow_from_directory(ALL,\n",
    "                                                      color_mode='rgb',\n",
    "                                                      batch_size=1,\n",
    "                                                      class_mode='sparse',\n",
    "                                                      target_size=(120, 120))\n",
    "\n",
    "only_hand_gen = validation_datagen.flow_from_directory(ONLY_HAND,\n",
    "                                                      color_mode='rgb',\n",
    "                                                      batch_size=1,\n",
    "                                                      class_mode='sparse',\n",
    "                                                      target_size=(120, 120))\n",
    "\n",
    "old_data_gen = validation_datagen.flow_from_directory(OLD_DATASET,\n",
    "                                                      color_mode='rgb',\n",
    "                                                      batch_size=24,\n",
    "                                                      class_mode='sparse',\n",
    "                                                      target_size=(120, 120))\n",
    "\n",
    "from_video_data_gen = validation_datagen.flow_from_directory(FROM_VIDEO,\n",
    "                                                      color_mode='rgb',\n",
    "                                                      batch_size=2,\n",
    "                                                      class_mode='sparse',\n",
    "                                                      target_size=(120, 120))"
   ]
  },
  {
   "cell_type": "code",
   "execution_count": 186,
   "id": "going-toilet",
   "metadata": {},
   "outputs": [
    {
     "name": "stdout",
     "output_type": "stream",
     "text": [
      "24/24 [==============================] - 2s 89ms/step - loss: 28.1763 - accuracy: 0.0417\n"
     ]
    },
    {
     "data": {
      "text/plain": [
       "[28.176307678222656, 0.0416666679084301]"
      ]
     },
     "execution_count": 186,
     "metadata": {},
     "output_type": "execute_result"
    }
   ],
   "source": [
    "my_model.evaluate(all_photo_gen)"
   ]
  },
  {
   "cell_type": "code",
   "execution_count": 189,
   "id": "fewer-schema",
   "metadata": {},
   "outputs": [
    {
     "name": "stdout",
     "output_type": "stream",
     "text": [
      "24/24 [==============================] - 1s 41ms/step - loss: 1.0155 - accuracy: 0.7083\n"
     ]
    },
    {
     "data": {
      "text/plain": [
       "[1.0154985189437866, 0.7083333134651184]"
      ]
     },
     "execution_count": 189,
     "metadata": {},
     "output_type": "execute_result"
    }
   ],
   "source": [
    "my_model.evaluate(only_hand_gen)"
   ]
  },
  {
   "cell_type": "code",
   "execution_count": 179,
   "id": "featured-organization",
   "metadata": {},
   "outputs": [
    {
     "name": "stdout",
     "output_type": "stream",
     "text": [
      "456/456 [==============================] - 22s 48ms/step - loss: 0.1022 - accuracy: 0.9659\n"
     ]
    },
    {
     "data": {
      "text/plain": [
       "[0.10221806913614273, 0.9658831357955933]"
      ]
     },
     "execution_count": 179,
     "metadata": {},
     "output_type": "execute_result"
    }
   ],
   "source": [
    "my_model.evaluate(old_data_gen)"
   ]
  },
  {
   "cell_type": "code",
   "execution_count": 184,
   "id": "critical-funeral",
   "metadata": {},
   "outputs": [
    {
     "name": "stdout",
     "output_type": "stream",
     "text": [
      "153/153 [==============================] - 6s 42ms/step - loss: 0.0689 - accuracy: 0.9706\n"
     ]
    },
    {
     "data": {
      "text/plain": [
       "[0.06893455982208252, 0.970588207244873]"
      ]
     },
     "execution_count": 184,
     "metadata": {},
     "output_type": "execute_result"
    }
   ],
   "source": [
    "my_model.evaluate(from_video_data_gen)"
   ]
  },
  {
   "cell_type": "code",
   "execution_count": 197,
   "id": "finished-athens",
   "metadata": {},
   "outputs": [
    {
     "data": {
      "image/png": "[encoded data removed]",
      "text/plain": [
       "<Figure size 432x288 with 1 Axes>"
      ]
     },
     "metadata": {
      "needs_background": "light"
     },
     "output_type": "display_data"
    },
    {
     "data": {
      "image/png": "[encoded data removed]",
      "text/plain": [
       "<Figure size 432x288 with 1 Axes>"
      ]
     },
     "metadata": {
      "needs_background": "light"
     },
     "output_type": "display_data"
    }
   ],
   "source": [
    "acc = history.history['accuracy']\n",
    "val_acc = history.history['val_accuracy']\n",
    "loss = history.history['loss']\n",
    "val_loss = history.history['val_loss']\n",
    "\n",
    "epochs = range(len(acc))\n",
    "\n",
    "fig = plt.figure()\n",
    "plt.plot(epochs, acc, 'r', label='Training accuracy')\n",
    "plt.plot(epochs, val_acc, 'b', label='Validation accuracy')\n",
    "plt.title('Training and validation accuracy')\n",
    "plt.legend()\n",
    "\n",
    "fig = plt.figure()\n",
    "plt.plot(epochs, loss, 'r', label='Training Loss')\n",
    "plt.plot(epochs, val_loss, 'b', label='Validation Loss')\n",
    "plt.title('Training and validation loss')\n",
    "plt.legend()"
   ]
  },
  {
   "cell_type": "code",
   "execution_count": 198,
   "id": "latter-control",
   "metadata": {},
   "outputs": [],
   "source": [
    "my_model.save('model/DenseNet201_120_rgb_full_da_full_layers_add.h5')"
   ]
  }
 ],
 "metadata": {
  "kernelspec": {
   "display_name": "Python 3",
   "language": "python",
   "name": "python3"
  },
  "language_info": {
   "codemirror_mode": {
    "name": "ipython",
    "version": 3
   },
   "file_extension": ".py",
   "mimetype": "text/x-python",
   "name": "python",
   "nbconvert_exporter": "python",
   "pygments_lexer": "ipython3",
   "version": "3.8.5"
  }
 },
 "nbformat": 4,
 "nbformat_minor": 5
}
