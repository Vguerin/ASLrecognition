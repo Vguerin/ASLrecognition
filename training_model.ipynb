{
 "cells": [
  {
   "cell_type": "code",
   "execution_count": 1,
   "id": "still-frequency",
   "metadata": {},
   "outputs": [],
   "source": [
    "import tensorflow as tf\n",
    "import numpy as np\n",
    "import matplotlib.pyplot as plt\n",
    "import os\n",
    "import random\n",
    "from shutil import copyfile"
   ]
  },
  {
   "cell_type": "code",
   "execution_count": 2,
   "id": "ahead-revolution",
   "metadata": {},
   "outputs": [
    {
     "name": "stdout",
     "output_type": "stream",
     "text": [
      "Found 61979 images belonging to 27 classes.\n",
      "Found 15511 images belonging to 27 classes.\n"
     ]
    }
   ],
   "source": [
    "BATCH_SIZE=32\n",
    "\n",
    "TRAINING_DIR = \"dataset/training\"\n",
    "train_datagen = tf.keras.preprocessing.image.ImageDataGenerator(rescale=1./255,\n",
    "      rotation_range=40,\n",
    "      width_shift_range=0.2,\n",
    "      height_shift_range=0.2,\n",
    "      shear_range=0.2,\n",
    "      zoom_range=0.2,\n",
    "      horizontal_flip=True,\n",
    "      fill_mode='nearest')\n",
    "train_generator = train_datagen.flow_from_directory(TRAINING_DIR,\n",
    "                                                    color_mode='rgb',\n",
    "                                                    batch_size=BATCH_SIZE,\n",
    "                                                    class_mode='sparse',\n",
    "                                                    target_size=(224, 224))\n",
    "\n",
    "VALIDATION_DIR = \"dataset/testing\"\n",
    "validation_datagen = tf.keras.preprocessing.image.ImageDataGenerator(rescale=1./255)\n",
    "validation_generator = validation_datagen.flow_from_directory(VALIDATION_DIR,\n",
    "                                                              color_mode='rgb',\n",
    "                                                              batch_size=BATCH_SIZE,\n",
    "                                                              class_mode='sparse',\n",
    "                                                              target_size=(224, 224))"
   ]
  },
  {
   "cell_type": "code",
   "execution_count": 3,
   "id": "funny-sudan",
   "metadata": {},
   "outputs": [],
   "source": [
    "base_model = tf.keras.applications.ResNet50V2(weights=\"imagenet\",input_shape=(224,224,3),include_top = False)\n",
    "#base_model.summary()"
   ]
  },
  {
   "cell_type": "code",
   "execution_count": 4,
   "id": "dried-vitamin",
   "metadata": {},
   "outputs": [],
   "source": [
    "# Base model layers will be frozen. Only new layers added on top will be trained\n",
    "for layer in base_model.layers:\n",
    "    layer.trainable = False\n",
    "    \n",
    "last_output = base_model.layers[-1].output"
   ]
  },
  {
   "cell_type": "code",
   "execution_count": 5,
   "id": "secure-nerve",
   "metadata": {},
   "outputs": [],
   "source": [
    "# Last ouput is flattened to get 1D Array for dense network\n",
    "# Some layers are added to suit more to our problem\n",
    "\n",
    "core_model = tf.keras.layers.Flatten()(last_output)\n",
    "core_model = tf.keras.layers.BatchNormalization()(core_model) #To reduce vanishing/exploding gradients problems\n",
    "\n",
    "core_model = tf.keras.layers.Dense(128,kernel_initializer=\"he_normal\", use_bias=False)(core_model)\n",
    "core_model = tf.keras.layers.BatchNormalization()(core_model) \n",
    "core_model = tf.keras.layers.Activation('relu')(core_model)\n",
    "core_model = tf.keras.layers.Dropout(0.4)(core_model) # To avoid overfitting \n",
    "\n",
    "core_model = tf.keras.layers.Dense(64,kernel_initializer=\"he_normal\", use_bias=False)(core_model)\n",
    "core_model = tf.keras.layers.BatchNormalization()(core_model) \n",
    "core_model = tf.keras.layers.Activation('relu')(core_model)\n",
    "core_model = tf.keras.layers.Dropout(0.4)(core_model)\n",
    "\n",
    "# Final layer is applying softmax function to get multiclass output\n",
    "output = tf.keras.layers.Dense(27, activation=tf.nn.softmax)(core_model)\n",
    "\n",
    "my_model = tf.keras.Model(inputs=base_model.input, outputs=output)"
   ]
  },
  {
   "cell_type": "code",
   "execution_count": 6,
   "id": "respected-blake",
   "metadata": {},
   "outputs": [],
   "source": [
    "optimizer = tf.keras.optimizers.Adam()\n",
    "\n",
    "my_model.compile(loss='sparse_categorical_crossentropy', optimizer=optimizer, metrics=['accuracy'])"
   ]
  },
  {
   "cell_type": "code",
   "execution_count": 7,
   "id": "incorporated-longitude",
   "metadata": {},
   "outputs": [],
   "source": [
    "early_stopping = tf.keras.callbacks.EarlyStopping(patience=2, mode='min', restore_best_weights=True, monitor='val_loss')"
   ]
  },
  {
   "cell_type": "code",
   "execution_count": 8,
   "id": "diverse-programming",
   "metadata": {},
   "outputs": [
    {
     "name": "stdout",
     "output_type": "stream",
     "text": [
      "Epoch 1/50\n",
      "1937/1937 [==============================] - 553s 285ms/step - loss: 1.8824 - accuracy: 0.4271 - val_loss: 0.7396 - val_accuracy: 0.7749\n",
      "Epoch 2/50\n",
      "1937/1937 [==============================] - 510s 263ms/step - loss: 1.3525 - accuracy: 0.5759 - val_loss: 0.5748 - val_accuracy: 0.8196\n",
      "Epoch 3/50\n",
      "1937/1937 [==============================] - 509s 263ms/step - loss: 1.1957 - accuracy: 0.6246 - val_loss: 0.4764 - val_accuracy: 0.8498\n",
      "Epoch 4/50\n",
      "1937/1937 [==============================] - 508s 262ms/step - loss: 1.1132 - accuracy: 0.6523 - val_loss: 0.4179 - val_accuracy: 0.8676\n",
      "Epoch 5/50\n",
      "1937/1937 [==============================] - 510s 263ms/step - loss: 1.0435 - accuracy: 0.6737 - val_loss: 0.3806 - val_accuracy: 0.8800\n",
      "Epoch 6/50\n",
      "1937/1937 [==============================] - 508s 262ms/step - loss: 0.9876 - accuracy: 0.6937 - val_loss: 0.3363 - val_accuracy: 0.8957\n",
      "Epoch 7/50\n",
      "1937/1937 [==============================] - 510s 263ms/step - loss: 0.9625 - accuracy: 0.7024 - val_loss: 0.3167 - val_accuracy: 0.9012\n",
      "Epoch 8/50\n",
      "1937/1937 [==============================] - 513s 265ms/step - loss: 0.9219 - accuracy: 0.7130 - val_loss: 0.2965 - val_accuracy: 0.9053\n",
      "Epoch 9/50\n",
      "1937/1937 [==============================] - 513s 265ms/step - loss: 0.9061 - accuracy: 0.7194 - val_loss: 0.2906 - val_accuracy: 0.9077\n",
      "Epoch 10/50\n",
      "1937/1937 [==============================] - 511s 264ms/step - loss: 0.8698 - accuracy: 0.7298 - val_loss: 0.2780 - val_accuracy: 0.9137\n",
      "Epoch 11/50\n",
      "1937/1937 [==============================] - 511s 264ms/step - loss: 0.8548 - accuracy: 0.7349 - val_loss: 0.2564 - val_accuracy: 0.9193\n",
      "Epoch 12/50\n",
      "1937/1937 [==============================] - 510s 263ms/step - loss: 0.8344 - accuracy: 0.7422 - val_loss: 0.2612 - val_accuracy: 0.9169\n",
      "Epoch 13/50\n",
      "1937/1937 [==============================] - 511s 264ms/step - loss: 0.8163 - accuracy: 0.7490 - val_loss: 0.2402 - val_accuracy: 0.9262\n",
      "Epoch 14/50\n",
      "1937/1937 [==============================] - 512s 264ms/step - loss: 0.8121 - accuracy: 0.7483 - val_loss: 0.2386 - val_accuracy: 0.9250\n",
      "Epoch 15/50\n",
      "1937/1937 [==============================] - 512s 264ms/step - loss: 0.7865 - accuracy: 0.7571 - val_loss: 0.2205 - val_accuracy: 0.9301\n",
      "Epoch 16/50\n",
      "1937/1937 [==============================] - 510s 263ms/step - loss: 0.7856 - accuracy: 0.7587 - val_loss: 0.2236 - val_accuracy: 0.9301\n",
      "Epoch 17/50\n",
      "1937/1937 [==============================] - 509s 263ms/step - loss: 0.7758 - accuracy: 0.7620 - val_loss: 0.2172 - val_accuracy: 0.9329\n",
      "Epoch 18/50\n",
      "1937/1937 [==============================] - 508s 262ms/step - loss: 0.7733 - accuracy: 0.7639 - val_loss: 0.2185 - val_accuracy: 0.9315\n",
      "Epoch 19/50\n",
      "1937/1937 [==============================] - 510s 263ms/step - loss: 0.7623 - accuracy: 0.7679 - val_loss: 0.2073 - val_accuracy: 0.9354\n",
      "Epoch 20/50\n",
      "1937/1937 [==============================] - 508s 263ms/step - loss: 0.7466 - accuracy: 0.7713 - val_loss: 0.2027 - val_accuracy: 0.9363\n",
      "Epoch 21/50\n",
      "1937/1937 [==============================] - 509s 263ms/step - loss: 0.7376 - accuracy: 0.7727 - val_loss: 0.1968 - val_accuracy: 0.9368\n",
      "Epoch 22/50\n",
      "1937/1937 [==============================] - 509s 263ms/step - loss: 0.7299 - accuracy: 0.7763 - val_loss: 0.1871 - val_accuracy: 0.9414\n",
      "Epoch 23/50\n",
      "1937/1937 [==============================] - 509s 263ms/step - loss: 0.7221 - accuracy: 0.7768 - val_loss: 0.1850 - val_accuracy: 0.9411\n",
      "Epoch 24/50\n",
      "1937/1937 [==============================] - 510s 263ms/step - loss: 0.7221 - accuracy: 0.7792 - val_loss: 0.1851 - val_accuracy: 0.9409\n",
      "Epoch 25/50\n",
      "1937/1937 [==============================] - 510s 263ms/step - loss: 0.7141 - accuracy: 0.7810 - val_loss: 0.1825 - val_accuracy: 0.9423\n",
      "Epoch 26/50\n",
      "1937/1937 [==============================] - 507s 262ms/step - loss: 0.7061 - accuracy: 0.7829 - val_loss: 0.1797 - val_accuracy: 0.9441\n",
      "Epoch 27/50\n",
      "1937/1937 [==============================] - 507s 262ms/step - loss: 0.7014 - accuracy: 0.7853 - val_loss: 0.1725 - val_accuracy: 0.9467\n",
      "Epoch 28/50\n",
      "1937/1937 [==============================] - 507s 262ms/step - loss: 0.6933 - accuracy: 0.7869 - val_loss: 0.1664 - val_accuracy: 0.9472\n",
      "Epoch 29/50\n",
      "1937/1937 [==============================] - 507s 262ms/step - loss: 0.6911 - accuracy: 0.7906 - val_loss: 0.1716 - val_accuracy: 0.9473\n",
      "Epoch 30/50\n",
      "1937/1937 [==============================] - 507s 262ms/step - loss: 0.6846 - accuracy: 0.7911 - val_loss: 0.1653 - val_accuracy: 0.9494\n",
      "Epoch 31/50\n",
      "1937/1937 [==============================] - 508s 262ms/step - loss: 0.6759 - accuracy: 0.7934 - val_loss: 0.1663 - val_accuracy: 0.9489\n",
      "Epoch 32/50\n",
      "1937/1937 [==============================] - 508s 262ms/step - loss: 0.6763 - accuracy: 0.7935 - val_loss: 0.1603 - val_accuracy: 0.9511\n",
      "Epoch 33/50\n",
      "1937/1937 [==============================] - 507s 262ms/step - loss: 0.6646 - accuracy: 0.7948 - val_loss: 0.1686 - val_accuracy: 0.9471\n",
      "Epoch 34/50\n",
      "1937/1937 [==============================] - 507s 262ms/step - loss: 0.6614 - accuracy: 0.7967 - val_loss: 0.1676 - val_accuracy: 0.9504\n"
     ]
    }
   ],
   "source": [
    "history = my_model.fit(train_generator,\n",
    "                              epochs=50,\n",
    "                              verbose=1,\n",
    "                              validation_data=validation_generator,\n",
    "                              callbacks=[early_stopping])"
   ]
  },
  {
   "cell_type": "code",
   "execution_count": 9,
   "id": "vocal-daniel",
   "metadata": {},
   "outputs": [
    {
     "data": {
      "image/png": "[encoded data removed]",
      "text/plain": [
       "<Figure size 432x288 with 1 Axes>"
      ]
     },
     "metadata": {
      "needs_background": "light"
     },
     "output_type": "display_data"
    },
    {
     "data": {
      "image/png": "[encoded data removed]",
      "text/plain": [
       "<Figure size 432x288 with 1 Axes>"
      ]
     },
     "metadata": {
      "needs_background": "light"
     },
     "output_type": "display_data"
    }
   ],
   "source": [
    "acc = history.history['accuracy']\n",
    "val_acc = history.history['val_accuracy']\n",
    "loss = history.history['loss']\n",
    "val_loss = history.history['val_loss']\n",
    "\n",
    "epochs = range(len(acc))\n",
    "\n",
    "plt.plot(epochs, acc, 'r', label='Training accuracy')\n",
    "plt.plot(epochs, val_acc, 'b', label='Validation accuracy')\n",
    "plt.title('Training and validation accuracy')\n",
    "plt.legend()\n",
    "plt.figure()\n",
    "\n",
    "plt.plot(epochs, loss, 'r', label='Training Loss')\n",
    "plt.plot(epochs, val_loss, 'b', label='Validation Loss')\n",
    "plt.title('Training and validation loss')\n",
    "plt.legend()\n",
    "\n",
    "plt.show()"
   ]
  },
  {
   "cell_type": "code",
   "execution_count": 10,
   "id": "ethical-healing",
   "metadata": {},
   "outputs": [],
   "source": [
    "my_model.save('asl_model.h5')"
   ]
  },
  {
   "cell_type": "code",
   "execution_count": 12,
   "id": "verified-hawaii",
   "metadata": {},
   "outputs": [],
   "source": [
    "import cv2"
   ]
  },
  {
   "cell_type": "code",
   "execution_count": 30,
   "id": "opened-hungary",
   "metadata": {},
   "outputs": [
    {
     "name": "stdout",
     "output_type": "stream",
     "text": [
      "W\n"
     ]
    }
   ],
   "source": [
    "face_img = cv2.imread('IMG_20201213_155624.jpg')\n",
    "face_img = cv2.resize(face_img, (224,224))\n",
    "face_img = np.expand_dims(face_img,0)\n",
    "pred = my_model.predict(face_img)\n",
    "pred_class_index = np.argmax(pred)\n",
    "for class_name in enumerate(train_generator.class_indices):\n",
    "    if pred_class_index == class_name[0]:\n",
    "        print(class_name[1])"
   ]
  },
  {
   "cell_type": "code",
   "execution_count": null,
   "id": "informal-convergence",
   "metadata": {},
   "outputs": [],
   "source": []
  }
 ],
 "metadata": {
  "kernelspec": {
   "display_name": "Python 3",
   "language": "python",
   "name": "python3"
  },
  "language_info": {
   "codemirror_mode": {
    "name": "ipython",
    "version": 3
   },
   "file_extension": ".py",
   "mimetype": "text/x-python",
   "name": "python",
   "nbconvert_exporter": "python",
   "pygments_lexer": "ipython3",
   "version": "3.8.5"
  }
 },
 "nbformat": 4,
 "nbformat_minor": 5
}
